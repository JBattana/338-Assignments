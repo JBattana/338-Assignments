{
  "nbformat": 4,
  "nbformat_minor": 0,
  "metadata": {
    "colab": {
      "provenance": [],
      "authorship_tag": "ABX9TyPQHdpRXMuaSvvJT0EF5RfR",
      "include_colab_link": true
    },
    "kernelspec": {
      "name": "python3",
      "display_name": "Python 3"
    },
    "language_info": {
      "name": "python"
    }
  },
  "cells": [
    {
      "cell_type": "markdown",
      "metadata": {
        "id": "view-in-github",
        "colab_type": "text"
      },
      "source": [
        "<a href=\"https://colab.research.google.com/github/JBattana/338-Assignments/blob/main/338_Assignment_13_1.ipynb\" target=\"_parent\"><img src=\"https://colab.research.google.com/assets/colab-badge.svg\" alt=\"Open In Colab\"/></a>"
      ]
    },
    {
      "cell_type": "markdown",
      "source": [
        "Building a Simple Book Recommendation System"
      ],
      "metadata": {
        "id": "Qv6Z-KUu8mBN"
      }
    },
    {
      "cell_type": "code",
      "execution_count": 1,
      "metadata": {
        "id": "2lwJvzH-8lm6"
      },
      "outputs": [],
      "source": [
        "books = [\n",
        "    {\"id\": 1, \"title\": \"To Kill a Mockingbird\", \"author\": \"Harper Lee\", \"genre\": \"Fiction\", \"themes\": \"Coming-of-age, Racism, Injustice\", \"era\": \"20th Century\"},\n",
        "    {\"id\": 2, \"title\": \"1984\", \"author\": \"George Orwell\", \"genre\": \"Science Fiction\", \"themes\": \"Dystopia, Totalitarianism, Surveillance\", \"era\": \"20th Century\"},\n",
        "    {\"id\": 3, \"title\": \"Pride and Prejudice\", \"author\": \"Jane Austen\", \"genre\": \"Romance\", \"themes\": \"Social class, Love, Marriage\", \"era\": \"19th Century\"},\n",
        "    {\"id\": 4, \"title\": \"The Great Gatsby\", \"author\": \"F. Scott Fitzgerald\", \"genre\": \"Fiction\", \"themes\": \"American Dream, Wealth, Decadence\", \"era\": \"20th Century\"},\n",
        "    {\"id\": 5, \"title\": \"Harry Potter and the Sorcerer's Stone\", \"author\": \"J.K. Rowling\", \"genre\": \"Fantasy\", \"themes\": \"Magic, Friendship, Coming-of-age\", \"era\": \"20th Century\"},\n",
        "    {\"id\": 6, \"title\": \"The Catcher in the Rye\", \"author\": \"J.D. Salinger\", \"genre\": \"Fiction\", \"themes\": \"Alienation, Growing up, Identity\", \"era\": \"20th Century\"},\n",
        "    {\"id\": 7, \"title\": \"The Hobbit\", \"author\": \"J.R.R. Tolkien\", \"genre\": \"Fantasy\", \"themes\": \"Adventure, Heroism, Greed\", \"era\": \"20th Century\"},\n",
        "    {\"id\": 8, \"title\": \"Brave New World\", \"author\": \"Aldous Huxley\", \"genre\": \"Science Fiction\", \"themes\": \"Dystopia, Technology, Freedom\", \"era\": \"20th Century\"},\n",
        "    {\"id\": 9, \"title\": \"Jane Eyre\", \"author\": \"Charlotte Bronte\", \"genre\": \"Romance\", \"themes\": \"Love, Independence, Social criticism\", \"era\": \"19th Century\"},\n",
        "    {\"id\": 10, \"title\": \"The Da Vinci Code\", \"author\": \"Dan Brown\", \"genre\": \"Thriller\", \"themes\": \"Conspiracy, Religion, Art\", \"era\": \"21st Century\"},\n",
        "    {\"id\": 11, \"title\": \"The Hunger Games\", \"author\": \"Suzanne Collins\", \"genre\": \"Young Adult\", \"themes\": \"Dystopia, Survival, Rebellion\", \"era\": \"21st Century\"},\n",
        "    {\"id\": 12, \"title\": \"The Alchemist\", \"author\": \"Paulo Coelho\", \"genre\": \"Fiction\", \"themes\": \"Self-discovery, Destiny, Spirituality\", \"era\": \"20th Century\"},\n",
        "    {\"id\": 13, \"title\": \"The Girl with the Dragon Tattoo\", \"author\": \"Stieg Larsson\", \"genre\": \"Mystery\", \"themes\": \"Crime, Corruption, Feminism\", \"era\": \"21st Century\"},\n",
        "    {\"id\": 14, \"title\": \"The Kite Runner\", \"author\": \"Khaled Hosseini\", \"genre\": \"Historical Fiction\", \"themes\": \"Redemption, Friendship, Culture\", \"era\": \"21st Century\"},\n",
        "    {\"id\": 15, \"title\": \"The Hitchhiker's Guide to the Galaxy\", \"author\": \"Douglas Adams\", \"genre\": \"Science Fiction\", \"themes\": \"Humor, Absurdity, Space travel\", \"era\": \"20th Century\"},\n",
        "    {\"id\": 16, \"title\": \"The Fault in Our Stars\", \"author\": \"John Green\", \"genre\": \"Young Adult\", \"themes\": \"Love, Illness, Coming-of-age\", \"era\": \"21st Century\"},\n",
        "    {\"id\": 17, \"title\": \"The Picture of Dorian Gray\", \"author\": \"Oscar Wilde\", \"genre\": \"Gothic Fiction\", \"themes\": \"Beauty, Corruption, Hedonism\", \"era\": \"19th Century\"},\n",
        "    {\"id\": 18, \"title\": \"The Martian\", \"author\": \"Andy Weir\", \"genre\": \"Science Fiction\", \"themes\": \"Survival, Science, Isolation\", \"era\": \"21st Century\"},\n",
        "    {\"id\": 19, \"title\": \"One Hundred Years of Solitude\", \"author\": \"Gabriel García Márquez\", \"genre\": \"Magical Realism\", \"themes\": \"Family, Time, Solitude\", \"era\": \"20th Century\"},\n",
        "    {\"id\": 20, \"title\": \"The Giver\", \"author\": \"Lois Lowry\", \"genre\": \"Young Adult\", \"themes\": \"Dystopia, Memory, Individuality\", \"era\": \"20th Century\"}\n",
        "]"
      ]
    },
    {
      "cell_type": "markdown",
      "source": [
        "Load the book data into a suitable a pandas DataFrame.\n"
      ],
      "metadata": {
        "id": "iutJRLOG83Ip"
      }
    },
    {
      "cell_type": "code",
      "source": [],
      "metadata": {
        "id": "J3-xoS0U8tSb"
      },
      "execution_count": null,
      "outputs": []
    },
    {
      "cell_type": "markdown",
      "source": [
        "Combine relevant features (genre, themes, era) into a single text field for each book.\n",
        "\n",
        "sample code: from sklearn.feature_extraction.text import CountVectorizer vectorizer = CountVectorizer() vectorized = vectorizer.fit_transform(df2['data'])\n",
        "\n"
      ],
      "metadata": {
        "id": "4R_xNBsA88hL"
      }
    },
    {
      "cell_type": "code",
      "source": [],
      "metadata": {
        "id": "VSvj5JSz9BwV"
      },
      "execution_count": 1,
      "outputs": []
    },
    {
      "cell_type": "markdown",
      "source": [
        "Apply the cosine similarity on the vector we created in the previous step.\n",
        "\n",
        "sample code: from sklearn.metrics.pairwise import cosine_similarity similarities = cosine_similarity(vectorized)"
      ],
      "metadata": {
        "id": "1DZFRBmg9CIS"
      }
    },
    {
      "cell_type": "code",
      "source": [],
      "metadata": {
        "id": "a1nSduzt9Kdn"
      },
      "execution_count": null,
      "outputs": []
    },
    {
      "cell_type": "markdown",
      "source": [
        "Create a function that takes a book title as input and returns the top N most similar books."
      ],
      "metadata": {
        "id": "iBS8ufSm9K1D"
      }
    },
    {
      "cell_type": "code",
      "source": [],
      "metadata": {
        "id": "LRDg1K069OMK"
      },
      "execution_count": null,
      "outputs": []
    },
    {
      "cell_type": "markdown",
      "source": [
        "Test your recommendation system with different input books."
      ],
      "metadata": {
        "id": "gRtz1ZKQ9Ob6"
      }
    },
    {
      "cell_type": "code",
      "source": [],
      "metadata": {
        "id": "n_bHBVwI9U-S"
      },
      "execution_count": null,
      "outputs": []
    }
  ]
}